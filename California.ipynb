{
 "cells": [
  {
   "cell_type": "markdown",
   "metadata": {},
   "source": [
    "# Linear Regression "
   ]
  },
  {
   "cell_type": "code",
   "execution_count": 2,
   "metadata": {},
   "outputs": [],
   "source": [
    "import sklearn\n",
    "import numpy as np\n",
    "import pandas as pd\n",
    "import seaborn as sns\n",
    "import matplotlib.pyplot as plt"
   ]
  },
  {
   "cell_type": "code",
   "execution_count": 23,
   "metadata": {},
   "outputs": [],
   "source": [
    "data = pd.read_csv(r'C:\\DataSets\\housing.csv\\housing.csv')\n"
   ]
  },
  {
   "cell_type": "code",
   "execution_count": 24,
   "metadata": {},
   "outputs": [
    {
     "name": "stdout",
     "output_type": "stream",
     "text": [
      "<class 'pandas.core.frame.DataFrame'>\n",
      "RangeIndex: 20640 entries, 0 to 20639\n",
      "Data columns (total 10 columns):\n",
      " #   Column              Non-Null Count  Dtype  \n",
      "---  ------              --------------  -----  \n",
      " 0   longitude           20640 non-null  float64\n",
      " 1   latitude            20640 non-null  float64\n",
      " 2   housing_median_age  20640 non-null  float64\n",
      " 3   total_rooms         20640 non-null  float64\n",
      " 4   total_bedrooms      20433 non-null  float64\n",
      " 5   population          20640 non-null  float64\n",
      " 6   households          20640 non-null  float64\n",
      " 7   median_income       20640 non-null  float64\n",
      " 8   median_house_value  20640 non-null  float64\n",
      " 9   ocean_proximity     20640 non-null  object \n",
      "dtypes: float64(9), object(1)\n",
      "memory usage: 1.6+ MB\n"
     ]
    }
   ],
   "source": [
    "data.info()"
   ]
  },
  {
   "cell_type": "code",
   "execution_count": 28,
   "metadata": {},
   "outputs": [],
   "source": [
    "data.dropna( inplace = True)"
   ]
  },
  {
   "cell_type": "code",
   "execution_count": 29,
   "metadata": {},
   "outputs": [
    {
     "name": "stdout",
     "output_type": "stream",
     "text": [
      "<class 'pandas.core.frame.DataFrame'>\n",
      "Index: 20433 entries, 0 to 20639\n",
      "Data columns (total 10 columns):\n",
      " #   Column              Non-Null Count  Dtype  \n",
      "---  ------              --------------  -----  \n",
      " 0   longitude           20433 non-null  float64\n",
      " 1   latitude            20433 non-null  float64\n",
      " 2   housing_median_age  20433 non-null  float64\n",
      " 3   total_rooms         20433 non-null  float64\n",
      " 4   total_bedrooms      20433 non-null  float64\n",
      " 5   population          20433 non-null  float64\n",
      " 6   households          20433 non-null  float64\n",
      " 7   median_income       20433 non-null  float64\n",
      " 8   median_house_value  20433 non-null  float64\n",
      " 9   ocean_proximity     20433 non-null  object \n",
      "dtypes: float64(9), object(1)\n",
      "memory usage: 1.7+ MB\n"
     ]
    }
   ],
   "source": [
    "data.info()"
   ]
  },
  {
   "cell_type": "code",
   "execution_count": 30,
   "metadata": {},
   "outputs": [],
   "source": [
    "from sklearn.model_selection import train_test_split\n",
    "x= data.drop(['median_house_value'], axis =1)\n",
    "\n",
    "y= data['median_house_value']"
   ]
  },
  {
   "cell_type": "code",
   "execution_count": 31,
   "metadata": {},
   "outputs": [],
   "source": [
    "x_train, x_text, y_train, y_test = train_test_split(x,y,test_size = 0.2)"
   ]
  },
  {
   "cell_type": "code",
   "execution_count": 32,
   "metadata": {},
   "outputs": [],
   "source": [
    "train_data = x_train.join(y_train)"
   ]
  },
  {
   "cell_type": "code",
   "execution_count": 33,
   "metadata": {},
   "outputs": [
    {
     "data": {
      "text/html": [
       "<div>\n",
       "<style scoped>\n",
       "    .dataframe tbody tr th:only-of-type {\n",
       "        vertical-align: middle;\n",
       "    }\n",
       "\n",
       "    .dataframe tbody tr th {\n",
       "        vertical-align: top;\n",
       "    }\n",
       "\n",
       "    .dataframe thead th {\n",
       "        text-align: right;\n",
       "    }\n",
       "</style>\n",
       "<table border=\"1\" class=\"dataframe\">\n",
       "  <thead>\n",
       "    <tr style=\"text-align: right;\">\n",
       "      <th></th>\n",
       "      <th>longitude</th>\n",
       "      <th>latitude</th>\n",
       "      <th>housing_median_age</th>\n",
       "      <th>total_rooms</th>\n",
       "      <th>total_bedrooms</th>\n",
       "      <th>population</th>\n",
       "      <th>households</th>\n",
       "      <th>median_income</th>\n",
       "      <th>ocean_proximity</th>\n",
       "      <th>median_house_value</th>\n",
       "    </tr>\n",
       "  </thead>\n",
       "  <tbody>\n",
       "    <tr>\n",
       "      <th>8338</th>\n",
       "      <td>-118.31</td>\n",
       "      <td>33.93</td>\n",
       "      <td>42.0</td>\n",
       "      <td>1173.0</td>\n",
       "      <td>201.0</td>\n",
       "      <td>602.0</td>\n",
       "      <td>186.0</td>\n",
       "      <td>5.5787</td>\n",
       "      <td>&lt;1H OCEAN</td>\n",
       "      <td>142000.0</td>\n",
       "    </tr>\n",
       "    <tr>\n",
       "      <th>15421</th>\n",
       "      <td>-117.28</td>\n",
       "      <td>33.20</td>\n",
       "      <td>11.0</td>\n",
       "      <td>1472.0</td>\n",
       "      <td>261.0</td>\n",
       "      <td>1012.0</td>\n",
       "      <td>285.0</td>\n",
       "      <td>4.2100</td>\n",
       "      <td>NEAR OCEAN</td>\n",
       "      <td>175600.0</td>\n",
       "    </tr>\n",
       "    <tr>\n",
       "      <th>16573</th>\n",
       "      <td>-121.42</td>\n",
       "      <td>37.74</td>\n",
       "      <td>35.0</td>\n",
       "      <td>796.0</td>\n",
       "      <td>132.0</td>\n",
       "      <td>313.0</td>\n",
       "      <td>152.0</td>\n",
       "      <td>3.1500</td>\n",
       "      <td>INLAND</td>\n",
       "      <td>153200.0</td>\n",
       "    </tr>\n",
       "    <tr>\n",
       "      <th>14183</th>\n",
       "      <td>-117.07</td>\n",
       "      <td>32.71</td>\n",
       "      <td>39.0</td>\n",
       "      <td>2754.0</td>\n",
       "      <td>652.0</td>\n",
       "      <td>2263.0</td>\n",
       "      <td>619.0</td>\n",
       "      <td>2.2454</td>\n",
       "      <td>NEAR OCEAN</td>\n",
       "      <td>89600.0</td>\n",
       "    </tr>\n",
       "    <tr>\n",
       "      <th>16507</th>\n",
       "      <td>-121.11</td>\n",
       "      <td>37.74</td>\n",
       "      <td>11.0</td>\n",
       "      <td>3886.0</td>\n",
       "      <td>599.0</td>\n",
       "      <td>1605.0</td>\n",
       "      <td>529.0</td>\n",
       "      <td>4.4213</td>\n",
       "      <td>INLAND</td>\n",
       "      <td>182700.0</td>\n",
       "    </tr>\n",
       "    <tr>\n",
       "      <th>...</th>\n",
       "      <td>...</td>\n",
       "      <td>...</td>\n",
       "      <td>...</td>\n",
       "      <td>...</td>\n",
       "      <td>...</td>\n",
       "      <td>...</td>\n",
       "      <td>...</td>\n",
       "      <td>...</td>\n",
       "      <td>...</td>\n",
       "      <td>...</td>\n",
       "    </tr>\n",
       "    <tr>\n",
       "      <th>17029</th>\n",
       "      <td>-122.26</td>\n",
       "      <td>37.51</td>\n",
       "      <td>46.0</td>\n",
       "      <td>672.0</td>\n",
       "      <td>149.0</td>\n",
       "      <td>351.0</td>\n",
       "      <td>136.0</td>\n",
       "      <td>5.3264</td>\n",
       "      <td>NEAR OCEAN</td>\n",
       "      <td>258100.0</td>\n",
       "    </tr>\n",
       "    <tr>\n",
       "      <th>2546</th>\n",
       "      <td>-124.19</td>\n",
       "      <td>40.78</td>\n",
       "      <td>37.0</td>\n",
       "      <td>1371.0</td>\n",
       "      <td>319.0</td>\n",
       "      <td>640.0</td>\n",
       "      <td>260.0</td>\n",
       "      <td>1.8242</td>\n",
       "      <td>NEAR OCEAN</td>\n",
       "      <td>70000.0</td>\n",
       "    </tr>\n",
       "    <tr>\n",
       "      <th>15990</th>\n",
       "      <td>-122.47</td>\n",
       "      <td>37.75</td>\n",
       "      <td>45.0</td>\n",
       "      <td>2399.0</td>\n",
       "      <td>426.0</td>\n",
       "      <td>911.0</td>\n",
       "      <td>423.0</td>\n",
       "      <td>4.4312</td>\n",
       "      <td>NEAR BAY</td>\n",
       "      <td>361000.0</td>\n",
       "    </tr>\n",
       "    <tr>\n",
       "      <th>12737</th>\n",
       "      <td>-121.36</td>\n",
       "      <td>38.64</td>\n",
       "      <td>24.0</td>\n",
       "      <td>6540.0</td>\n",
       "      <td>1008.0</td>\n",
       "      <td>2667.0</td>\n",
       "      <td>1031.0</td>\n",
       "      <td>5.5632</td>\n",
       "      <td>INLAND</td>\n",
       "      <td>175200.0</td>\n",
       "    </tr>\n",
       "    <tr>\n",
       "      <th>9033</th>\n",
       "      <td>-118.66</td>\n",
       "      <td>34.02</td>\n",
       "      <td>23.0</td>\n",
       "      <td>8798.0</td>\n",
       "      <td>1465.0</td>\n",
       "      <td>2750.0</td>\n",
       "      <td>1208.0</td>\n",
       "      <td>8.7364</td>\n",
       "      <td>NEAR OCEAN</td>\n",
       "      <td>500001.0</td>\n",
       "    </tr>\n",
       "  </tbody>\n",
       "</table>\n",
       "<p>16346 rows × 10 columns</p>\n",
       "</div>"
      ],
      "text/plain": [
       "       longitude  latitude  housing_median_age  total_rooms  total_bedrooms  \\\n",
       "8338     -118.31     33.93                42.0       1173.0           201.0   \n",
       "15421    -117.28     33.20                11.0       1472.0           261.0   \n",
       "16573    -121.42     37.74                35.0        796.0           132.0   \n",
       "14183    -117.07     32.71                39.0       2754.0           652.0   \n",
       "16507    -121.11     37.74                11.0       3886.0           599.0   \n",
       "...          ...       ...                 ...          ...             ...   \n",
       "17029    -122.26     37.51                46.0        672.0           149.0   \n",
       "2546     -124.19     40.78                37.0       1371.0           319.0   \n",
       "15990    -122.47     37.75                45.0       2399.0           426.0   \n",
       "12737    -121.36     38.64                24.0       6540.0          1008.0   \n",
       "9033     -118.66     34.02                23.0       8798.0          1465.0   \n",
       "\n",
       "       population  households  median_income ocean_proximity  \\\n",
       "8338        602.0       186.0         5.5787       <1H OCEAN   \n",
       "15421      1012.0       285.0         4.2100      NEAR OCEAN   \n",
       "16573       313.0       152.0         3.1500          INLAND   \n",
       "14183      2263.0       619.0         2.2454      NEAR OCEAN   \n",
       "16507      1605.0       529.0         4.4213          INLAND   \n",
       "...           ...         ...            ...             ...   \n",
       "17029       351.0       136.0         5.3264      NEAR OCEAN   \n",
       "2546        640.0       260.0         1.8242      NEAR OCEAN   \n",
       "15990       911.0       423.0         4.4312        NEAR BAY   \n",
       "12737      2667.0      1031.0         5.5632          INLAND   \n",
       "9033       2750.0      1208.0         8.7364      NEAR OCEAN   \n",
       "\n",
       "       median_house_value  \n",
       "8338             142000.0  \n",
       "15421            175600.0  \n",
       "16573            153200.0  \n",
       "14183             89600.0  \n",
       "16507            182700.0  \n",
       "...                   ...  \n",
       "17029            258100.0  \n",
       "2546              70000.0  \n",
       "15990            361000.0  \n",
       "12737            175200.0  \n",
       "9033             500001.0  \n",
       "\n",
       "[16346 rows x 10 columns]"
      ]
     },
     "execution_count": 33,
     "metadata": {},
     "output_type": "execute_result"
    }
   ],
   "source": [
    "train_data"
   ]
  },
  {
   "cell_type": "markdown",
   "metadata": {},
   "source": [
    "# Heatmap"
   ]
  },
  {
   "cell_type": "code",
   "execution_count": 1,
   "metadata": {},
   "outputs": [
    {
     "ename": "NameError",
     "evalue": "name 'plt' is not defined",
     "output_type": "error",
     "traceback": [
      "\u001b[1;31m---------------------------------------------------------------------------\u001b[0m",
      "\u001b[1;31mNameError\u001b[0m                                 Traceback (most recent call last)",
      "Cell \u001b[1;32mIn[1], line 1\u001b[0m\n\u001b[1;32m----> 1\u001b[0m \u001b[43mplt\u001b[49m\u001b[38;5;241m.\u001b[39mfigure(figsize\u001b[38;5;241m=\u001b[39m (\u001b[38;5;241m15\u001b[39m,\u001b[38;5;241m8\u001b[39m))\n\u001b[0;32m      2\u001b[0m sns\u001b[38;5;241m.\u001b[39mheatmap(train_data\u001b[38;5;241m.\u001b[39mcorr(), annot \u001b[38;5;241m=\u001b[39m \u001b[38;5;28;01mTrue\u001b[39;00m, cmap \u001b[38;5;241m=\u001b[39m \u001b[38;5;124m\"\u001b[39m\u001b[38;5;124mY1GnBu\u001b[39m\u001b[38;5;124m\"\u001b[39m)\n",
      "\u001b[1;31mNameError\u001b[0m: name 'plt' is not defined"
     ]
    }
   ],
   "source": [
    "plt.figure(figsize= (15,8))\n",
    "sns.heatmap(train_data.corr(), annot = True, cmap = \"Y1GnBu\")"
   ]
  },
  {
   "cell_type": "markdown",
   "metadata": {},
   "source": [
    "# Histogram"
   ]
  },
  {
   "cell_type": "code",
   "execution_count": 34,
   "metadata": {},
   "outputs": [
    {
     "data": {
      "text/plain": [
       "array([[<Axes: title={'center': 'longitude'}>,\n",
       "        <Axes: title={'center': 'latitude'}>,\n",
       "        <Axes: title={'center': 'housing_median_age'}>],\n",
       "       [<Axes: title={'center': 'total_rooms'}>,\n",
       "        <Axes: title={'center': 'total_bedrooms'}>,\n",
       "        <Axes: title={'center': 'population'}>],\n",
       "       [<Axes: title={'center': 'households'}>,\n",
       "        <Axes: title={'center': 'median_income'}>,\n",
       "        <Axes: title={'center': 'median_house_value'}>]], dtype=object)"
      ]
     },
     "execution_count": 34,
     "metadata": {},
     "output_type": "execute_result"
    },
    {
     "data": {
      "image/png": "[encoded data removed]",
      "text/plain": [
       "<Figure size 1500x800 with 9 Axes>"
      ]
     },
     "metadata": {},
     "output_type": "display_data"
    }
   ],
   "source": [
    "train_data.hist(figsize=(15,8))"
   ]
  },
  {
   "cell_type": "markdown",
   "metadata": {},
   "source": [
    "# Data Processing"
   ]
  },
  {
   "cell_type": "code",
   "execution_count": null,
   "metadata": {},
   "outputs": [],
   "source": [
    "train.data['total_rooms'] = np.log(train_data['total_rooms']+1)\n",
    "train.data['total_bedrooms'] = np.log(train_data['total_bedrooms']+1)\n",
    "train.data['population'] = np.log(train_data['poplation']+1)\n",
    "train.data['households'] = np.log(train_data['households']+1)"
   ]
  },
  {
   "cell_type": "markdown",
   "metadata": {},
   "source": [
    "Using to train yet another Histogram"
   ]
  },
  {
   "cell_type": "code",
   "execution_count": null,
   "metadata": {},
   "outputs": [],
   "source": [
    "train_data.hist(figsize = (15,8))"
   ]
  },
  {
   "cell_type": "code",
   "execution_count": null,
   "metadata": {},
   "outputs": [],
   "source": [
    "train_data.join(pd.get_dummies(train_data.ocean_proximity)).drop(['ocean_proximity'], axis =1)\n",
    "plt.figure(figsize= (15,8))"
   ]
  },
  {
   "cell_type": "markdown",
   "metadata": {},
   "source": [
    "Using to train yet another Heatmap"
   ]
  },
  {
   "cell_type": "code",
   "execution_count": null,
   "metadata": {},
   "outputs": [],
   "source": [
    "plt.figure(figsize= (15,8))\n",
    "sns.heatmap(train_data.corr(), annot = True, cmap = \"Y1GnBu\")"
   ]
  },
  {
   "cell_type": "markdown",
   "metadata": {},
   "source": [
    "Using to train yet another Scatterplot"
   ]
  },
  {
   "cell_type": "code",
   "execution_count": null,
   "metadata": {},
   "outputs": [],
   "source": [
    "plt.figure(figsize = (15,8))\n",
    "sns.scatterplot(x=\"latitute\", y=\"longitude\", hue=\"median_house_value\", palette=\"coolwarm\")"
   ]
  },
  {
   "cell_type": "code",
   "execution_count": null,
   "metadata": {},
   "outputs": [],
   "source": [
    "train_data['bedroom_ratio'] = train_data['total_bedrooms']/train_data['total_rooms']\n",
    "train_data['household_rooms'] = train_data['total_rooms']/train_data['households']"
   ]
  },
  {
   "cell_type": "markdown",
   "metadata": {},
   "source": [
    "Using to train yet another Heatmap"
   ]
  },
  {
   "cell_type": "code",
   "execution_count": null,
   "metadata": {},
   "outputs": [],
   "source": [
    "plt.figure(figsize= (15,8))\n",
    "sns.heatmap(train_data.corr(), annot = True, cmap = \"Y1GnBu\")"
   ]
  },
  {
   "cell_type": "markdown",
   "metadata": {},
   "source": [
    "# Linear Regression"
   ]
  },
  {
   "cell_type": "code",
   "execution_count": null,
   "metadata": {},
   "outputs": [],
   "source": [
    "from sklearn.linear_model import LinearRegression\n",
    "from sklearn.preprocessing import StandardScaler\n",
    "scaler = StandardScaler()\n",
    "x_train, y_train = train_data.drop(['medain_house_value'], axis=1), train_data['median_house_value']\n",
    "reg = LinearRegression()\n",
    "reg.fit(x_train, y_train)"
   ]
  },
  {
   "cell_type": "code",
   "execution_count": null,
   "metadata": {},
   "outputs": [],
   "source": [
    "LinearRegression()"
   ]
  },
  {
   "cell_type": "code",
   "execution_count": null,
   "metadata": {},
   "outputs": [],
   "source": [
    "test_data = x_test.join(y_test)\n",
    "\n",
    "test_data.data['total_rooms'] = np.log(train_data['total_rooms']+1)\n",
    "test.data['total_bedrooms'] = np.log(train_data['total_bedrooms']+1)\n",
    "test.data['population'] = np.log(train_data['poplation']+1)\n",
    "test.data['households'] = np.log(train_data['households']+1)\n",
    "\n",
    "test_data =test_data.join(pd.get_dummies(test_data.ocean_proximity)).drop(['ocean_proximity'], axis=1)\n",
    "\n",
    "test_data['bedroom_ratio'] = test_data['total_bedrooms']/test_data['total_rooms']\n",
    "test_data['household_rooms'] = test_data['total_rooms']/test_data['households']"
   ]
  },
  {
   "cell_type": "code",
   "execution_count": null,
   "metadata": {},
   "outputs": [],
   "source": [
    "x_test, y_test = test_data.drop(['median_house_value'],axis=1),test_data[\"median_house_value\"]"
   ]
  },
  {
   "cell_type": "code",
   "execution_count": null,
   "metadata": {},
   "outputs": [],
   "source": [
    "x_test_s = scaler.transform(x_test)"
   ]
  },
  {
   "cell_type": "code",
   "execution_count": 8,
   "metadata": {},
   "outputs": [
    {
     "ename": "NameError",
     "evalue": "name 'reg' is not defined",
     "output_type": "error",
     "traceback": [
      "\u001b[1;31m---------------------------------------------------------------------------\u001b[0m",
      "\u001b[1;31mNameError\u001b[0m                                 Traceback (most recent call last)",
      "Cell \u001b[1;32mIn[8], line 1\u001b[0m\n\u001b[1;32m----> 1\u001b[0m reg\u001b[38;5;241m.\u001b[39mscore(s)\n",
      "\u001b[1;31mNameError\u001b[0m: name 'reg' is not defined"
     ]
    }
   ],
   "source": [
    "reg.score(s)"
   ]
  },
  {
   "cell_type": "code",
   "execution_count": null,
   "metadata": {},
   "outputs": [],
   "source": [
    "x_test_s,y_test"
   ]
  },
  {
   "cell_type": "markdown",
   "metadata": {},
   "source": [
    "# Random Forest Model"
   ]
  },
  {
   "cell_type": "code",
   "execution_count": null,
   "metadata": {},
   "outputs": [],
   "source": [
    "from sklearn.ensemble import RandomForestRegressor\n",
    "forest = RandomForestRegressor\n",
    "forest.fit(x_trai)"
   ]
  }
 ],
 "metadata": {
  "kernelspec": {
   "display_name": "ML_Conda",
   "language": "python",
   "name": "python3"
  },
  "language_info": {
   "codemirror_mode": {
    "name": "ipython",
    "version": 3
   },
   "file_extension": ".py",
   "mimetype": "text/x-python",
   "name": "python",
   "nbconvert_exporter": "python",
   "pygments_lexer": "ipython3",
   "version": "3.13.1"
  }
 },
 "nbformat": 4,
 "nbformat_minor": 2
}
